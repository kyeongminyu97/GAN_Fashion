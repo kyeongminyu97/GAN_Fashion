{
  "nbformat": 4,
  "nbformat_minor": 0,
  "metadata": {
    "colab": {
      "name": "GAN_resize_images.ipynb",
      "provenance": [],
      "collapsed_sections": [],
      "mount_file_id": "1oPGmrAM_kegVaQcyjDz7yAaeh9xqe6Ge",
      "authorship_tag": "ABX9TyOe8URBeNloWu0jLsBctk5S",
      "include_colab_link": true
    },
    "kernelspec": {
      "name": "python3",
      "display_name": "Python 3"
    },
    "language_info": {
      "name": "python"
    },
    "accelerator": "GPU"
  },
  "cells": [
    {
      "cell_type": "markdown",
      "metadata": {
        "id": "view-in-github",
        "colab_type": "text"
      },
      "source": [
        "<a href=\"https://colab.research.google.com/github/kyeongminyu97/GAN_Fashion/blob/main/GAN_resize_images.ipynb\" target=\"_parent\"><img src=\"https://colab.research.google.com/assets/colab-badge.svg\" alt=\"Open In Colab\"/></a>"
      ]
    },
    {
      "cell_type": "code",
      "execution_count": null,
      "metadata": {
        "id": "T41dtgq_q6fW"
      },
      "outputs": [],
      "source": [
        "from google.colab import drive\n",
        "drive.mount('/gdrive')\n",
        "%cd /gdrive"
      ]
    },
    {
      "cell_type": "code",
      "source": [
        "import numpy as np\n",
        "import matplotlib.pyplot as plt\n",
        "import os\n",
        "from PIL import Image\n",
        "import os, sys\n",
        "import glob\n",
        "from joblib import Parallel, delayed\n",
        "from google.colab.patches import cv2_imshow\n",
        "import cv2\n"
      ],
      "metadata": {
        "id": "E-JmfiZSrZ34"
      },
      "execution_count": null,
      "outputs": []
    },
    {
      "cell_type": "code",
      "source": [
        "# Function to resize multiple files\n",
        "IMG_DIR= \"/content/drive/MyDrive/data/gan/images/shirt\"\n",
        "for file in os.listdir(IMG_DIR):\n",
        "    f_img = IMG_DIR +'/'+file\n",
        "    try:\n",
        "        img = Image.open(f_img)\n",
        "        img = img.resize((256, 256))\n",
        "        img.save(f_img)\n",
        "    except IOError:\n",
        "        pass"
      ],
      "metadata": {
        "id": "dr2T52uIr2-Y"
      },
      "execution_count": null,
      "outputs": []
    },
    {
      "cell_type": "code",
      "source": [
        "img2= Image.open(\"/content/drive/MyDrive/data/gan/images/shirt/ZA822O00E-K11@8.jpg\")"
      ],
      "metadata": {
        "id": "ZdS1AGXvtHti"
      },
      "execution_count": null,
      "outputs": []
    },
    {
      "cell_type": "code",
      "source": [
        "width, height = img2. size\n",
        "print(width,height)"
      ],
      "metadata": {
        "colab": {
          "base_uri": "https://localhost:8080/"
        },
        "id": "5MsbzYw2uekU",
        "outputId": "501c4e7b-eaf2-456c-e9f7-d3319f90a3cd"
      },
      "execution_count": null,
      "outputs": [
        {
          "output_type": "stream",
          "name": "stdout",
          "text": [
            "256 256\n"
          ]
        }
      ]
    },
    {
      "cell_type": "code",
      "source": [
        "# Function to rename multiple files\n",
        "def main():\n",
        "\n",
        "    for count, filename in enumerate(os.listdir(IMG_DIR)):\n",
        "        dst = f\"shirt{str(count)}.jpg\"\n",
        "        src =f\"{IMG_DIR}/{filename}\"  # foldername/filename, if .py file is outside folder\n",
        "        dst =f\"{IMG_DIR}/{dst}\"\n",
        "         \n",
        "        # rename() function will\n",
        "        # rename all the files\n",
        "        os.rename(src, dst)\n",
        " \n",
        "# Driver Code\n",
        "if __name__ == '__main__':\n",
        "     \n",
        "    # Calling main() function\n",
        "    main()"
      ],
      "metadata": {
        "id": "lXft62TPzq9q"
      },
      "execution_count": null,
      "outputs": []
    },
    {
      "cell_type": "code",
      "source": [
        "img1= Image.open(\"/content/drive/MyDrive/data/gan/images/shirt/shirt185.jpg\")"
      ],
      "metadata": {
        "id": "rjt1zUro1R1f"
      },
      "execution_count": null,
      "outputs": []
    },
    {
      "cell_type": "code",
      "source": [
        "width, height = img1. size\n",
        "print(width,height)"
      ],
      "metadata": {
        "colab": {
          "base_uri": "https://localhost:8080/"
        },
        "id": "aTVQ_NYU1W0S",
        "outputId": "050c58c7-140d-4c24-a964-c3276bd8827a"
      },
      "execution_count": null,
      "outputs": [
        {
          "output_type": "stream",
          "name": "stdout",
          "text": [
            "256 256\n"
          ]
        }
      ]
    }
  ]
}